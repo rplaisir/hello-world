{
  "nbformat": 4,
  "nbformat_minor": 0,
  "metadata": {
    "kernelspec": {
      "display_name": "Python 3",
      "language": "python",
      "name": "python3"
    },
    "language_info": {
      "codemirror_mode": {
        "name": "ipython",
        "version": 3
      },
      "file_extension": ".py",
      "mimetype": "text/x-python",
      "name": "python",
      "nbconvert_exporter": "python",
      "pygments_lexer": "ipython3",
      "version": "3.7.0"
    },
    "colab": {
      "name": "Introduction Python.ipynb",
      "version": "0.3.2",
      "provenance": [],
      "collapsed_sections": []
    }
  },
  "cells": [
    {
      "cell_type": "markdown",
      "metadata": {
        "id": "bXC6gwIDcc6r",
        "colab_type": "text"
      },
      "source": [
        " <h1 style = \"color:red\">Initiation à la programation Python</h1>\n",
        "\n",
        "<h2 style = \"color:blue\"> 1) Notion de variables</h2>"
      ]
    },
    {
      "cell_type": "code",
      "metadata": {
        "id": "7gup9XfZcc6t",
        "colab_type": "code",
        "outputId": "db6a8d37-bc28-43a4-f1d6-a74885489573",
        "colab": {
          "base_uri": "https://localhost:8080/",
          "height": 35
        }
      },
      "source": [
        "3-7"
      ],
      "execution_count": 0,
      "outputs": [
        {
          "output_type": "execute_result",
          "data": {
            "text/plain": [
              "-4"
            ]
          },
          "metadata": {
            "tags": []
          },
          "execution_count": 2
        }
      ]
    },
    {
      "cell_type": "code",
      "metadata": {
        "id": "oeZSabVkcc6y",
        "colab_type": "code",
        "colab": {}
      },
      "source": [
        "a = 3\n",
        "b = 4"
      ],
      "execution_count": 0,
      "outputs": []
    },
    {
      "cell_type": "markdown",
      "metadata": {
        "id": "mL9mXtUecc61",
        "colab_type": "text"
      },
      "source": [
        "Les lettres \"a\" et \"b\" sont appelées des <span style=\"color:red\">**variables**</span>.<br>\n",
        "On parle d'**affectation** : la lettre \"a\" pointe vers l'entier 3  ; la lettre \"b\" pointe vers l'entier 4.\n",
        "Comment faire pour connaître la valeur de a ?"
      ]
    },
    {
      "cell_type": "code",
      "metadata": {
        "id": "04yw2jP9cc62",
        "colab_type": "code",
        "outputId": "07cf0e27-4154-403f-a9fd-89ea2ae1a1fc",
        "colab": {
          "base_uri": "https://localhost:8080/",
          "height": 35
        }
      },
      "source": [
        "a"
      ],
      "execution_count": 0,
      "outputs": [
        {
          "output_type": "execute_result",
          "data": {
            "text/plain": [
              "3"
            ]
          },
          "metadata": {
            "tags": []
          },
          "execution_count": 4
        }
      ]
    },
    {
      "cell_type": "code",
      "metadata": {
        "id": "6uofnuvQcc64",
        "colab_type": "code",
        "outputId": "d14914da-bad9-4543-984c-bc96b5b64850",
        "colab": {
          "base_uri": "https://localhost:8080/",
          "height": 35
        }
      },
      "source": [
        "a=3+4\n",
        "a"
      ],
      "execution_count": 0,
      "outputs": [
        {
          "output_type": "execute_result",
          "data": {
            "text/plain": [
              "7"
            ]
          },
          "metadata": {
            "tags": []
          },
          "execution_count": 6
        }
      ]
    },
    {
      "cell_type": "markdown",
      "metadata": {
        "id": "9cpEudx0cc67",
        "colab_type": "text"
      },
      "source": [
        "Quelle est le **type** d'une variable ? à quoi correspond-t-il ?"
      ]
    },
    {
      "cell_type": "code",
      "metadata": {
        "id": "KKK_oOs_cc68",
        "colab_type": "code",
        "outputId": "1e506748-ead1-4402-fcf7-5d0faeaf078a",
        "colab": {
          "base_uri": "https://localhost:8080/",
          "height": 35
        }
      },
      "source": [
        "type(a)"
      ],
      "execution_count": 0,
      "outputs": [
        {
          "output_type": "execute_result",
          "data": {
            "text/plain": [
              "int"
            ]
          },
          "metadata": {
            "tags": []
          },
          "execution_count": 7
        }
      ]
    },
    {
      "cell_type": "markdown",
      "metadata": {
        "id": "hQVcWDtAcc6-",
        "colab_type": "text"
      },
      "source": [
        "Le type <span style=\"color:blue\">**int**</span> correspond au mot **integer** signifiant nombres entiers"
      ]
    },
    {
      "cell_type": "code",
      "metadata": {
        "id": "6gfT6aKRcc6_",
        "colab_type": "code",
        "outputId": "6b4d8790-1d48-414a-f5f7-b6421bccf109",
        "colab": {
          "base_uri": "https://localhost:8080/",
          "height": 35
        }
      },
      "source": [
        "c = 'maths'\n",
        "type(c)    "
      ],
      "execution_count": 0,
      "outputs": [
        {
          "output_type": "execute_result",
          "data": {
            "text/plain": [
              "str"
            ]
          },
          "metadata": {
            "tags": []
          },
          "execution_count": 8
        }
      ]
    },
    {
      "cell_type": "markdown",
      "metadata": {
        "id": "SU9Hq1M3cc7B",
        "colab_type": "text"
      },
      "source": [
        "Le type <span style=\"color:blue\">**str**</span> correspond au mot **String** signifiant chaine de caractères"
      ]
    },
    {
      "cell_type": "markdown",
      "metadata": {
        "id": "oAcU9K8Hcc7B",
        "colab_type": "text"
      },
      "source": [
        "Pour les fénéants, il est possible de faire une affectation en série !"
      ]
    },
    {
      "cell_type": "code",
      "metadata": {
        "id": "CS6S89owcc7C",
        "colab_type": "code",
        "colab": {}
      },
      "source": [
        "nb1, nb2 = 7,-2"
      ],
      "execution_count": 0,
      "outputs": []
    },
    {
      "cell_type": "code",
      "metadata": {
        "id": "1yrMMyj9cc7F",
        "colab_type": "code",
        "outputId": "f76f35c7-fa78-4c2f-d2ec-ae0b1e4ea4c3",
        "colab": {
          "base_uri": "https://localhost:8080/",
          "height": 35
        }
      },
      "source": [
        "nb1"
      ],
      "execution_count": 0,
      "outputs": [
        {
          "output_type": "execute_result",
          "data": {
            "text/plain": [
              "7"
            ]
          },
          "metadata": {
            "tags": []
          },
          "execution_count": 10
        }
      ]
    },
    {
      "cell_type": "markdown",
      "metadata": {
        "id": "E55S_angcc7I",
        "colab_type": "text"
      },
      "source": [
        "On peut aussi faire de l'affectation multiple."
      ]
    },
    {
      "cell_type": "code",
      "metadata": {
        "id": "63E_kK_W9Fzr",
        "colab_type": "code",
        "outputId": "3a5c9dd2-adaf-432b-b10c-f142839657e5",
        "colab": {
          "base_uri": "https://localhost:8080/",
          "height": 35
        }
      },
      "source": [
        "nb2\n"
      ],
      "execution_count": 0,
      "outputs": [
        {
          "output_type": "execute_result",
          "data": {
            "text/plain": [
              "-2"
            ]
          },
          "metadata": {
            "tags": []
          },
          "execution_count": 11
        }
      ]
    },
    {
      "cell_type": "code",
      "metadata": {
        "id": "Bu2Y2lBXcc7I",
        "colab_type": "code",
        "colab": {}
      },
      "source": [
        "nb3 = nb4 = 6"
      ],
      "execution_count": 0,
      "outputs": []
    },
    {
      "cell_type": "code",
      "metadata": {
        "id": "30WE9OUH-U_m",
        "colab_type": "code",
        "outputId": "8f22f530-3224-48bc-f304-43003c4038d4",
        "colab": {
          "base_uri": "https://localhost:8080/",
          "height": 35
        }
      },
      "source": [
        "nb4 = 7\n",
        "nb3"
      ],
      "execution_count": 0,
      "outputs": [
        {
          "output_type": "execute_result",
          "data": {
            "text/plain": [
              "6"
            ]
          },
          "metadata": {
            "tags": []
          },
          "execution_count": 17
        }
      ]
    },
    {
      "cell_type": "markdown",
      "metadata": {
        "id": "I3dA08s_cc7L",
        "colab_type": "text"
      },
      "source": [
        "Il est possible de manipuler des variables et de faire des calculs !"
      ]
    },
    {
      "cell_type": "code",
      "metadata": {
        "id": "2OSqTfHPcc7M",
        "colab_type": "code",
        "outputId": "1e2b973b-9d7c-4d19-d924-e848665a63e2",
        "colab": {
          "base_uri": "https://localhost:8080/",
          "height": 35
        }
      },
      "source": [
        "resultat = a + 7\n",
        "resultat"
      ],
      "execution_count": 0,
      "outputs": [
        {
          "output_type": "execute_result",
          "data": {
            "text/plain": [
              "14"
            ]
          },
          "metadata": {
            "tags": []
          },
          "execution_count": 13
        }
      ]
    },
    {
      "cell_type": "code",
      "metadata": {
        "id": "AUP-kFcBcc7O",
        "colab_type": "code",
        "outputId": "d42bbe2b-1375-47e9-c369-f2eb304f5cf6",
        "colab": {
          "base_uri": "https://localhost:8080/",
          "height": 193
        }
      },
      "source": [
        "e = a - B\n",
        "e"
      ],
      "execution_count": 0,
      "outputs": [
        {
          "output_type": "error",
          "ename": "NameError",
          "evalue": "ignored",
          "traceback": [
            "\u001b[0;31m---------------------------------------------------------------------------\u001b[0m",
            "\u001b[0;31mNameError\u001b[0m                                 Traceback (most recent call last)",
            "\u001b[0;32m<ipython-input-14-7247c03fcc84>\u001b[0m in \u001b[0;36m<module>\u001b[0;34m()\u001b[0m\n\u001b[0;32m----> 1\u001b[0;31m \u001b[0me\u001b[0m \u001b[0;34m=\u001b[0m \u001b[0ma\u001b[0m \u001b[0;34m-\u001b[0m \u001b[0mB\u001b[0m\u001b[0;34m\u001b[0m\u001b[0;34m\u001b[0m\u001b[0m\n\u001b[0m\u001b[1;32m      2\u001b[0m \u001b[0me\u001b[0m\u001b[0;34m\u001b[0m\u001b[0;34m\u001b[0m\u001b[0m\n",
            "\u001b[0;31mNameError\u001b[0m: name 'B' is not defined"
          ]
        }
      ]
    },
    {
      "cell_type": "code",
      "metadata": {
        "id": "0ZjdCScA955v",
        "colab_type": "code",
        "outputId": "7755bc8b-1a3d-40df-de86-6114cd211c2d",
        "colab": {
          "base_uri": "https://localhost:8080/",
          "height": 35
        }
      },
      "source": [
        "e=a-b\n",
        "e"
      ],
      "execution_count": 0,
      "outputs": [
        {
          "output_type": "execute_result",
          "data": {
            "text/plain": [
              "3"
            ]
          },
          "metadata": {
            "tags": []
          },
          "execution_count": 15
        }
      ]
    },
    {
      "cell_type": "code",
      "metadata": {
        "scrolled": true,
        "id": "i2z82dsAcc7Q",
        "colab_type": "code",
        "colab": {}
      },
      "source": [
        "resultat = a + c"
      ],
      "execution_count": 0,
      "outputs": []
    },
    {
      "cell_type": "code",
      "metadata": {
        "id": "m2SfIK2Bcc7S",
        "colab_type": "code",
        "outputId": "02656d32-910f-4ff2-b41a-06c11fb8a595",
        "colab": {
          "base_uri": "https://localhost:8080/",
          "height": 35
        }
      },
      "source": [
        "syl1 = 'MA'\n",
        "syl2 = 'ths'\n",
        "mot = syl1 + syl2\n",
        "mot"
      ],
      "execution_count": 0,
      "outputs": [
        {
          "output_type": "execute_result",
          "data": {
            "text/plain": [
              "'MAths'"
            ]
          },
          "metadata": {
            "tags": []
          },
          "execution_count": 16
        }
      ]
    },
    {
      "cell_type": "markdown",
      "metadata": {
        "id": "IjxBrGOEcc7U",
        "colab_type": "text"
      },
      "source": [
        "Les **nombres réels** ont-ils un type ?\n",
        "Peut-on ajouter un entier et un réel ? Quel est le type du résultat ?"
      ]
    },
    {
      "cell_type": "code",
      "metadata": {
        "id": "cw3RCOeacc7V",
        "colab_type": "code",
        "outputId": "7722c331-b89e-4860-add2-c5ac7d65a9fe",
        "colab": {
          "base_uri": "https://localhost:8080/",
          "height": 35
        }
      },
      "source": [
        "type(3.5)\n"
      ],
      "execution_count": 0,
      "outputs": [
        {
          "output_type": "execute_result",
          "data": {
            "text/plain": [
              "float"
            ]
          },
          "metadata": {
            "tags": []
          },
          "execution_count": 18
        }
      ]
    },
    {
      "cell_type": "code",
      "metadata": {
        "id": "QlnQqTha_Bvb",
        "colab_type": "code",
        "outputId": "1802029c-9a78-4799-9e05-4bd24bba7f66",
        "colab": {
          "base_uri": "https://localhost:8080/",
          "height": 54
        }
      },
      "source": [
        "print(2+3.0)\n",
        "print(type(2+3.0))"
      ],
      "execution_count": 0,
      "outputs": [
        {
          "output_type": "stream",
          "text": [
            "5.0\n",
            "<class 'float'>\n"
          ],
          "name": "stdout"
        }
      ]
    },
    {
      "cell_type": "markdown",
      "metadata": {
        "id": "lDouoVIxcc7Y",
        "colab_type": "text"
      },
      "source": [
        "**Remarque pour les plus curieux** : Il existe un type qui \"ressemble\" à une liste : les tuples . Pratique dans certains exercices de maths !!"
      ]
    },
    {
      "cell_type": "code",
      "metadata": {
        "id": "wkDyEB8Wcc7Z",
        "colab_type": "code",
        "colab": {}
      },
      "source": [
        "coordonnees = (a,b)\n",
        "coordonnees"
      ],
      "execution_count": 0,
      "outputs": []
    },
    {
      "cell_type": "markdown",
      "metadata": {
        "id": "zTs-F9s2cc7b",
        "colab_type": "text"
      },
      "source": [
        "Comment peut-on accéder à une seule des 2 valeurs ?"
      ]
    },
    {
      "cell_type": "code",
      "metadata": {
        "id": "TOL_eMR0cc7c",
        "colab_type": "code",
        "colab": {}
      },
      "source": [
        ""
      ],
      "execution_count": 0,
      "outputs": []
    },
    {
      "cell_type": "markdown",
      "metadata": {
        "id": "9pJfzCFRcc7d",
        "colab_type": "text"
      },
      "source": [
        "<h2 style = \"color:blue\"> 2) Interaction avec l'utilisateur</h2>"
      ]
    },
    {
      "cell_type": "markdown",
      "metadata": {
        "id": "6jKGsdxocc7e",
        "colab_type": "text"
      },
      "source": [
        "Dans un premier temps nous verrons seulement deux instructions permettant une interaction :\n",
        "<ul>\n",
        "    <li>La première : La saisie par l'utilisateur d'une variable sans rentrer dans le programme directement\n",
        "        C'est l'instruction <span style=\"color:red\"><b>input()</b></span></li>"
      ]
    },
    {
      "cell_type": "code",
      "metadata": {
        "id": "8GQDpxoAcc7f",
        "colab_type": "code",
        "outputId": "064a791f-4b5a-4f4c-b005-ce9332f8d442",
        "colab": {
          "base_uri": "https://localhost:8080/",
          "height": 54
        }
      },
      "source": [
        "input()"
      ],
      "execution_count": 0,
      "outputs": [
        {
          "output_type": "stream",
          "text": [
            "5\n"
          ],
          "name": "stdout"
        },
        {
          "output_type": "execute_result",
          "data": {
            "text/plain": [
              "'5'"
            ]
          },
          "metadata": {
            "tags": []
          },
          "execution_count": 22
        }
      ]
    },
    {
      "cell_type": "markdown",
      "metadata": {
        "id": "mJdw1HF7cc7i",
        "colab_type": "text"
      },
      "source": [
        "Il est possible d'introduire des indications !"
      ]
    },
    {
      "cell_type": "code",
      "metadata": {
        "id": "VNhHT_Racc7k",
        "colab_type": "code",
        "outputId": "7a37f44b-4815-4dee-caee-12c4f4bcd7c4",
        "colab": {
          "base_uri": "https://localhost:8080/",
          "height": 54
        }
      },
      "source": [
        "input('entrer un entier')"
      ],
      "execution_count": 0,
      "outputs": [
        {
          "output_type": "stream",
          "text": [
            "entrer un entier5\n"
          ],
          "name": "stdout"
        },
        {
          "output_type": "execute_result",
          "data": {
            "text/plain": [
              "'5'"
            ]
          },
          "metadata": {
            "tags": []
          },
          "execution_count": 23
        }
      ]
    },
    {
      "cell_type": "code",
      "metadata": {
        "id": "w0T4olP1AOM8",
        "colab_type": "code",
        "outputId": "ff3a688f-5a9a-433e-c131-4e43c3512ad8",
        "colab": {
          "base_uri": "https://localhost:8080/",
          "height": 35
        }
      },
      "source": [
        "'5'+'8'"
      ],
      "execution_count": 0,
      "outputs": [
        {
          "output_type": "execute_result",
          "data": {
            "text/plain": [
              "'58'"
            ]
          },
          "metadata": {
            "tags": []
          },
          "execution_count": 26
        }
      ]
    },
    {
      "cell_type": "code",
      "metadata": {
        "id": "ZbRQ_4zCAZvH",
        "colab_type": "code",
        "outputId": "b9c1028c-4684-4f8f-d9c0-313b55e3fbab",
        "colab": {
          "base_uri": "https://localhost:8080/",
          "height": 54
        }
      },
      "source": [
        "int(input('Entrer un entier'))"
      ],
      "execution_count": 0,
      "outputs": [
        {
          "output_type": "stream",
          "text": [
            "Entrer un entier5\n"
          ],
          "name": "stdout"
        },
        {
          "output_type": "execute_result",
          "data": {
            "text/plain": [
              "5"
            ]
          },
          "metadata": {
            "tags": []
          },
          "execution_count": 27
        }
      ]
    },
    {
      "cell_type": "code",
      "metadata": {
        "id": "FLEPJ5gHAvyY",
        "colab_type": "code",
        "outputId": "23687574-519e-47ef-8cbe-8be81283c3da",
        "colab": {
          "base_uri": "https://localhost:8080/",
          "height": 54
        }
      },
      "source": [
        "a=int(input('Entrer un entier'))\n",
        "print('a = ',a)"
      ],
      "execution_count": 0,
      "outputs": [
        {
          "output_type": "stream",
          "text": [
            "Entrer un entier-7\n",
            "a =  -7\n"
          ],
          "name": "stdout"
        }
      ]
    },
    {
      "cell_type": "markdown",
      "metadata": {
        "id": "QPcVSc0pcc7n",
        "colab_type": "text"
      },
      "source": [
        " <li>La deuxième : 'affichage par l'ordinateur d'un message/d'une variable ... \n",
        "    C'est l'instruction <span style=\"color:red\"><b>print()</b></span></li></ul>"
      ]
    },
    {
      "cell_type": "code",
      "metadata": {
        "id": "30EhHRL7cc7o",
        "colab_type": "code",
        "outputId": "ed206de0-5baa-4e3a-842b-d1be8c1df83f",
        "colab": {
          "base_uri": "https://localhost:8080/",
          "height": 35
        }
      },
      "source": [
        "print('maths')"
      ],
      "execution_count": 0,
      "outputs": [
        {
          "output_type": "stream",
          "text": [
            "maths\n"
          ],
          "name": "stdout"
        }
      ]
    },
    {
      "cell_type": "code",
      "metadata": {
        "id": "lPV-JDMUcc7r",
        "colab_type": "code",
        "outputId": "685114ee-de23-4a10-9480-749a074a721a",
        "colab": {
          "base_uri": "https://localhost:8080/",
          "height": 35
        }
      },
      "source": [
        "print(a)"
      ],
      "execution_count": 0,
      "outputs": [
        {
          "output_type": "stream",
          "text": [
            "7\n"
          ],
          "name": "stdout"
        }
      ]
    },
    {
      "cell_type": "markdown",
      "metadata": {
        "id": "NeUl0Lcjcc7t",
        "colab_type": "text"
      },
      "source": [
        "<h2><span style = \"color:blue\"> 3) Structure conditionnelle :</span>  Si ... Alors ... Sinon</h2>"
      ]
    },
    {
      "cell_type": "markdown",
      "metadata": {
        "id": "IIAOGzsncc7u",
        "colab_type": "text"
      },
      "source": [
        "<b>En langage Python (anglais): <span style=\"color:red\">if ... then ... else</span> </b>\n",
        "\n",
        "<b>Exemple : </b>"
      ]
    },
    {
      "cell_type": "code",
      "metadata": {
        "id": "w7FYxcdBcc7v",
        "colab_type": "code",
        "colab": {}
      },
      "source": [
        "nombre = int(input(\"Entrez un entier positif : \"))\n",
        "if nombre < 10 :\n",
        "    print(\"Ce nombre est un chiffre !\")\n",
        "else :\n",
        "    print(\"Ce nombre n'est pas un chiffre !\")\n",
        "    "
      ],
      "execution_count": 0,
      "outputs": []
    },
    {
      "cell_type": "markdown",
      "metadata": {
        "id": "kDTUK9UDcc7x",
        "colab_type": "text"
      },
      "source": [
        "Qu'est ce que **l'indentation** ?\n",
        "<br>....\n",
        "<br>...."
      ]
    },
    {
      "cell_type": "markdown",
      "metadata": {
        "id": "B1nOtF23cc7x",
        "colab_type": "text"
      },
      "source": [
        "Je souhaite améliorer ce programme, en le sécurisant un peu !\n",
        "Modifiez le programme afin qu'il signale une erreur si le nombre est négatif !"
      ]
    },
    {
      "cell_type": "code",
      "metadata": {
        "id": "h43GxG9pcc7y",
        "colab_type": "code",
        "colab": {}
      },
      "source": [
        "10<50"
      ],
      "execution_count": 0,
      "outputs": []
    },
    {
      "cell_type": "code",
      "metadata": {
        "id": "1s3lzXcpDGo6",
        "colab_type": "code",
        "colab": {}
      },
      "source": [
        "a = float (input (\"Entrer l'interval minimum \"))\n",
        "b = float (input (\"Entrer l'interval maximum \"))\n",
        "x = float (input (\"Entrer le nombre \"))\n"
      ],
      "execution_count": 0,
      "outputs": []
    }
  ]
}