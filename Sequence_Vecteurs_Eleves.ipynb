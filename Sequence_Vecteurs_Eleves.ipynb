{
 "cells": [
  {
   "cell_type": "markdown",
   "metadata": {},
   "source": [
    "# <center><span style=\"color: #fb4141\">Utilisation des fonctions pour la notion de VECTEUR</span></center>"
   ]
  },
  {
   "cell_type": "markdown",
   "metadata": {},
   "source": [
    "### I. Premières propriétés sur les vecteurs"
   ]
  },
  {
   "cell_type": "markdown",
   "metadata": {},
   "source": [
    "Tout d'abord nous allons définir un vecteur à l'aide d'un <b>tuple</b> qui correspondra à ses coordonnées.\n",
    "Par exemple :"
   ]
  },
  {
   "cell_type": "code",
   "execution_count": null,
   "metadata": {},
   "outputs": [],
   "source": [
    "vecteur_AB = (2 , -3)\n",
    "print(\" Le vecteur AB a pour coordonnées :\",vecteur_AB)"
   ]
  },
  {
   "cell_type": "markdown",
   "metadata": {},
   "source": [
    "$\n",
    "\\begin{align}\n",
    "\\textbf{Remarque : }\n",
    "\\text{pour différentier la distance AB du vecteur }\n",
    "\\vec {AB}\n",
    "\\text{ , j'ai choisi un nom de variable explicite,}\n",
    "\\newline\n",
    "\\text {mais vous pouvez choisir une autre convention, elle doit cependant être sans ambiguité !} \n",
    "\\end{align}\n",
    "$"
   ]
  },
  {
   "cell_type": "markdown",
   "metadata": {},
   "source": [
    "<span style = \"font-size:110% ; font-weight:bold\"> Premières fonctions :</span><br>\n",
    " <span style = \"margin-left:5%\"><b>1) Coordonnées d'un vecteur à partir de 2 points</b></span>"
   ]
  },
  {
   "cell_type": "code",
   "execution_count": null,
   "metadata": {},
   "outputs": [],
   "source": [
    "def vecteur(origine,extremite):\n",
    "    # fonction vecteur ayant 2 points en arguments : origine et extremite du vecteur\n",
    "    # la fonction vecteur retourne les coordonnées du vecteur obtenu\n",
    "    \n",
    "    return U"
   ]
  },
  {
   "cell_type": "code",
   "execution_count": null,
   "metadata": {},
   "outputs": [],
   "source": [
    "# test de la fonction précédente\n",
    "A = (-1 , 2)\n",
    "B = (7 , 3)\n",
    "vecteur_AB = vecteur(A,B)\n",
    "print(\" Le vecteur AB a pour coordonnées :\",vecteur_AB)"
   ]
  },
  {
   "cell_type": "markdown",
   "metadata": {},
   "source": [
    " <span style = \"margin-left:5%\"><b>2)</b> Egalité de deux vecteurs.</span><br>\n",
    " Création d'une fonction testant si 2 vecteurs sont égaux."
   ]
  },
  {
   "cell_type": "code",
   "execution_count": null,
   "metadata": {},
   "outputs": [],
   "source": [
    "def egalite(vecteur_1 , vecteur_2):\n",
    "    # fonction ayant en argument 2 vecteurs et retournant True si les vecteurs sont égaux, False sinon.\n",
    "    \n",
    "    \n",
    "    "
   ]
  },
  {
   "cell_type": "code",
   "execution_count": null,
   "metadata": {},
   "outputs": [],
   "source": [
    "# test de la fonction précédente avec le vecteur AB (ci-dessus) et 2 autres vecteurs\n",
    "vecteur_u = (3 , 5)\n",
    "print(\"test vecteur AB et vecteur u : \",egalite(vecteur_AB,vecteur_u))"
   ]
  },
  {
   "cell_type": "code",
   "execution_count": null,
   "metadata": {},
   "outputs": [],
   "source": [
    "C = (-2 , -1)\n",
    "D = (6 , 7)\n",
    "print(\"test vecteur AB et vecteur CD : \",egalite(vecteur(A,B),vecteur(C,D)))"
   ]
  },
  {
   "cell_type": "markdown",
   "metadata": {},
   "source": [
    "Analyser l'instruction : <b>egalite(vecteur(A,B),vecteur(C,D))</b>"
   ]
  },
  {
   "cell_type": "markdown",
   "metadata": {},
   "source": [
    "<b>Prolongement :</b> Créer une fonction qui teste si un quadrilatère est un parallélogramme en utilisant les vecteurs"
   ]
  },
  {
   "cell_type": "code",
   "execution_count": null,
   "metadata": {},
   "outputs": [],
   "source": [
    "def testParallelogramme(A,B,C,D):\n",
    "    # fonction ayant 4 points en arguments retournant True ou False\n",
    "    \n",
    "    "
   ]
  },
  {
   "cell_type": "code",
   "execution_count": null,
   "metadata": {},
   "outputs": [],
   "source": [
    "# effectuer un test\n"
   ]
  },
  {
   "cell_type": "markdown",
   "metadata": {},
   "source": [
    "<br><span style = \"margin-left:5%\"><b>2) Somme de deux vecteurs.</b></span><br>"
   ]
  },
  {
   "cell_type": "markdown",
   "metadata": {},
   "source": [
    "<b>Attention : </b> L'addition de 2 tuples ne donne pas le résultat attendu, voir l'exemple ci-dessous :"
   ]
  },
  {
   "cell_type": "code",
   "execution_count": null,
   "metadata": {},
   "outputs": [],
   "source": [
    "(1,2)+(3,4)"
   ]
  },
  {
   "cell_type": "markdown",
   "metadata": {},
   "source": [
    "pour faire la somme il faut donc ajouter chaque coordonnées !"
   ]
  },
  {
   "cell_type": "code",
   "execution_count": null,
   "metadata": {},
   "outputs": [],
   "source": [
    "def somme (vecteur_1, vecteur_2):\n",
    "    # fonction ayant en arguments 2 vecteurs et retournant les coordonnées de la somme\n",
    "    \n",
    "    "
   ]
  },
  {
   "cell_type": "code",
   "execution_count": null,
   "metadata": {},
   "outputs": [],
   "source": [
    "vecteur_U = (2 , -5)\n",
    "vecteur_V = (5 , -3)\n",
    "somme(vecteur_U , vecteur_V)"
   ]
  },
  {
   "cell_type": "markdown",
   "metadata": {},
   "source": [
    "<br><span style = \"margin-left:5%\"><b>3) Règle du parallélogramme.</b></span><br>"
   ]
  },
  {
   "cell_type": "markdown",
   "metadata": {},
   "source": [
    "L'objectif de la fonction suivante est trouver les coordonnées du point M telles que ABMC soit un parallélogramme, en utilisant la règle du parallélogramme rappelé ci-dessous :"
   ]
  },
  {
   "cell_type": "markdown",
   "metadata": {},
   "source": [
    "<span style = \"color:red\">\n",
    "$$\n",
    "\\begin{align}\n",
    "\\textbf {ABMC est un parallélogramme si et seulement si }\n",
    "\\vec{AM} = \\vec{AB} + \\vec{AC}\n",
    "\\end{align}\n",
    "$$\n",
    "</span>"
   ]
  },
  {
   "cell_type": "markdown",
   "metadata": {},
   "source": [
    "La contrainte pour la fonction suivante est d'utiliser la règle du parallélogramme (donc la fonction somme)"
   ]
  },
  {
   "cell_type": "code",
   "execution_count": null,
   "metadata": {},
   "outputs": [],
   "source": [
    "def parallelogramme(A,B,C):\n",
    "    # fonction ayant comme arguments 3 points et retournant les coordonnées du point M\n",
    "    "
   ]
  },
  {
   "cell_type": "code",
   "execution_count": null,
   "metadata": {},
   "outputs": [],
   "source": [
    "A = (-1,-1)\n",
    "B = (-2,5)\n",
    "C = (4,3)\n",
    "M = parallelogramme(A,B,C)\n",
    "print(M)\n"
   ]
  },
  {
   "cell_type": "markdown",
   "metadata": {},
   "source": [
    "<br><span style = \"margin-left:5%\"><b>4) Prolongement.</b></span><br>"
   ]
  },
  {
   "cell_type": "markdown",
   "metadata": {},
   "source": [
    "L'objectif de la fonction suivante est de trouver les coordonnées du point D tel que ABCD soit un parallélogramme (sans utiliser la règle du parallélogramme)"
   ]
  },
  {
   "cell_type": "code",
   "execution_count": null,
   "metadata": {},
   "outputs": [],
   "source": [
    "def parallelogramme2(A,B,C):\n",
    "    # fonction ayant comme arguments 3 points et retournant les coordonnées du point D\n",
    "    "
   ]
  },
  {
   "cell_type": "code",
   "execution_count": null,
   "metadata": {},
   "outputs": [],
   "source": [
    "A = (-1,-1)\n",
    "B = (-2,5)\n",
    "C = (3,9)\n",
    "M = parallelogramme2(A,B,C)\n",
    "print(M)  "
   ]
  },
  {
   "cell_type": "markdown",
   "metadata": {},
   "source": [
    "Attention les 2 fonctions parallélogrammes ne donnent pas les mêmes parallélogrammes : AB<b>M</b>C et ABC<b>D</b> !"
   ]
  }
 ],
 "metadata": {
  "kernelspec": {
   "display_name": "Python 3",
   "language": "python",
   "name": "python3"
  },
  "language_info": {
   "codemirror_mode": {
    "name": "ipython",
    "version": 3
   },
   "file_extension": ".py",
   "mimetype": "text/x-python",
   "name": "python",
   "nbconvert_exporter": "python",
   "pygments_lexer": "ipython3",
   "version": "3.7.3"
  }
 },
 "nbformat": 4,
 "nbformat_minor": 2
}
