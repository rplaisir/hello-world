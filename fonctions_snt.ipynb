{
  "nbformat": 4,
  "nbformat_minor": 0,
  "metadata": {
    "kernelspec": {
      "display_name": "Python 3",
      "language": "python",
      "name": "python3"
    },
    "language_info": {
      "codemirror_mode": {
        "name": "ipython",
        "version": 3
      },
      "file_extension": ".py",
      "mimetype": "text/x-python",
      "name": "python",
      "nbconvert_exporter": "python",
      "pygments_lexer": "ipython3",
      "version": "3.7.3"
    },
    "colab": {
      "name": "fonctions_snt.ipynb",
      "provenance": [],
      "include_colab_link": true
    }
  },
  "cells": [
    {
      "cell_type": "markdown",
      "metadata": {
        "id": "view-in-github",
        "colab_type": "text"
      },
      "source": [
        "<a href=\"https://colab.research.google.com/github/rplaisir/hello-world/blob/master/fonctions_snt.ipynb\" target=\"_parent\"><img src=\"https://colab.research.google.com/assets/colab-badge.svg\" alt=\"Open In Colab\"/></a>"
      ]
    },
    {
      "cell_type": "markdown",
      "metadata": {
        "id": "JK7oDK6IDyCD",
        "colab_type": "text"
      },
      "source": [
        "# Quelques notions autour d'un exercice de maths"
      ]
    },
    {
      "cell_type": "markdown",
      "metadata": {
        "id": "STn5Qpn2DyCM",
        "colab_type": "text"
      },
      "source": [
        "### I. Objectif : Milieu et parallélogramme."
      ]
    },
    {
      "cell_type": "markdown",
      "metadata": {
        "id": "VtLTOROSDyCS",
        "colab_type": "text"
      },
      "source": [
        "#### I.1. Déterminons les coordonées du milieu I d'un segment [AB]"
      ]
    },
    {
      "cell_type": "markdown",
      "metadata": {
        "id": "n7ZBnmsWDyCV",
        "colab_type": "text"
      },
      "source": [
        "On récupère les coordonnées de A et B grace aux fonctions (built-in) **_input( )_** et **_float( )_**"
      ]
    },
    {
      "cell_type": "code",
      "metadata": {
        "id": "oseEE19BDyCa",
        "colab_type": "code",
        "colab": {}
      },
      "source": [
        "xA = float(input('Abscisse de A ? '))\n",
        "yA = float(input('Ordonnée de A ? '))"
      ],
      "execution_count": 0,
      "outputs": []
    },
    {
      "cell_type": "markdown",
      "metadata": {
        "id": "JgeWxaDBDyCs",
        "colab_type": "text"
      },
      "source": [
        "Faire de même avec le point B !"
      ]
    },
    {
      "cell_type": "code",
      "metadata": {
        "id": "DJW6u-nFDyCx",
        "colab_type": "code",
        "colab": {}
      },
      "source": [
        "xB =\n",
        "yB = "
      ],
      "execution_count": 0,
      "outputs": []
    },
    {
      "cell_type": "markdown",
      "metadata": {
        "id": "P24Wvf8ODyC7",
        "colab_type": "text"
      },
      "source": [
        "Utilisons la formule permettant de déterminer les coordonnées de I"
      ]
    },
    {
      "cell_type": "code",
      "metadata": {
        "id": "fns4Wu6MDyDA",
        "colab_type": "code",
        "colab": {}
      },
      "source": [
        "xI = \n",
        "yI = \n",
        "print('Les coordonnées de I sont (',xI,';',yI,')')"
      ],
      "execution_count": 0,
      "outputs": []
    },
    {
      "cell_type": "markdown",
      "metadata": {
        "id": "27YU2d67DyDK",
        "colab_type": "text"
      },
      "source": [
        "### L'objectif de cette séquence sera de créer un programme permettant de tester si un quadrilatère ABCD est un parallélogramme"
      ]
    },
    {
      "cell_type": "markdown",
      "metadata": {
        "id": "NWh53tP0DyDP",
        "colab_type": "text"
      },
      "source": [
        "#### I.2. Première étape : création d'une fonction permettant de calculer les coordonnées d'un milieu"
      ]
    },
    {
      "cell_type": "markdown",
      "metadata": {
        "id": "SXvXvRqwDyDV",
        "colab_type": "text"
      },
      "source": [
        "Il n'est pas très pratique de réecrire les lignes de code précédente pour les points C, D et J.\n",
        "Nous allons donc utiliser les **fonctions**"
      ]
    },
    {
      "cell_type": "markdown",
      "metadata": {
        "id": "mkvh3cyrDyDX",
        "colab_type": "text"
      },
      "source": [
        "Avant cela il pourrait être utile de découvrir une variable d'un nouveau type : les **_tuples_**"
      ]
    },
    {
      "cell_type": "code",
      "metadata": {
        "id": "z3Hw2P9bDyDa",
        "colab_type": "code",
        "colab": {}
      },
      "source": [
        "A = (5,-2)\n",
        "A"
      ],
      "execution_count": 0,
      "outputs": []
    },
    {
      "cell_type": "markdown",
      "metadata": {
        "id": "F2erp3M9DyDk",
        "colab_type": "text"
      },
      "source": [
        "Il est évident que les tuples sont très pratiques dans notre situation car, on peut définir un point en donnant directement ses coordonnées !"
      ]
    },
    {
      "cell_type": "markdown",
      "metadata": {
        "id": "SsXPFnm8DyDn",
        "colab_type": "text"
      },
      "source": [
        "**_Remarque :_** Un tuple peut contenir autre chose que des nombres et peut être constitué de plus de 2 éléments !"
      ]
    },
    {
      "cell_type": "code",
      "metadata": {
        "id": "Lg5y0pIjDyDs",
        "colab_type": "code",
        "colab": {}
      },
      "source": [
        "couple = ('2F',33)\n",
        "triplet = (1,2,-7.5)"
      ],
      "execution_count": 0,
      "outputs": []
    },
    {
      "cell_type": "markdown",
      "metadata": {
        "id": "mwV4OLRzDyD6",
        "colab_type": "text"
      },
      "source": [
        "Maintenant que nous savons définir un tuple, il nous faut apprendre à accéder à une valeur du tuple.\n",
        "En fait, un tuple est une \"sorte\" de liste donc chaque élément est indexé (\"numéroté\") en commençant à 0."
      ]
    },
    {
      "cell_type": "code",
      "metadata": {
        "id": "1a6CEQx6DyD9",
        "colab_type": "code",
        "colab": {}
      },
      "source": [
        "A[0]"
      ],
      "execution_count": 0,
      "outputs": []
    },
    {
      "cell_type": "code",
      "metadata": {
        "id": "g9Qs30RNDyEL",
        "colab_type": "code",
        "colab": {}
      },
      "source": [
        "A[1]"
      ],
      "execution_count": 0,
      "outputs": []
    },
    {
      "cell_type": "markdown",
      "metadata": {
        "id": "4-uuQWSMDyEi",
        "colab_type": "text"
      },
      "source": [
        "Nous avons tous les éléments pour créer une fonction : \n",
        "on utilise l'instruction **def** nom_fonction (*argument1,argument2,...*)<span style=\"color: #fb4141\"><b>:</b></span>\n",
        "puis l'instruction <span style=\"color: #fb4141\"><b>return</b></span> pour renvoyer un résultat\n",
        "par exemple, créons une fonction milieu."
      ]
    },
    {
      "cell_type": "code",
      "metadata": {
        "id": "eWKPssjCDyEm",
        "colab_type": "code",
        "colab": {}
      },
      "source": [
        "def milieu(A,B):\n",
        "    # milieu a 2 arguments les points A et B\n",
        "    xI = (A[0]+B[0])/2\n",
        "    # à compléter avec yI\n",
        "    \n",
        "    return (xI,yI)     # la fonction retourne un tuple correspondant aux coordonnées du milieu de [AB] (explication à suivre)"
      ],
      "execution_count": 0,
      "outputs": []
    },
    {
      "cell_type": "markdown",
      "metadata": {
        "id": "kVpRGgH2DyEs",
        "colab_type": "text"
      },
      "source": [
        "Décortiquons un peu ce code :\n",
        "* **def** permet de créer une fonction que l'on nomme _milieu_\n",
        "* cette fonction nécessite deux **arguments** _A_ et _B_ pour être éxécutée\n",
        "* A et B étant des tuples pour permettre d'avoir des coordonnées\n",
        "* l'instruction **return** permet de récupérer les coordonnées du milieu"
      ]
    },
    {
      "cell_type": "markdown",
      "metadata": {
        "id": "f0jTGg_8DyEu",
        "colab_type": "text"
      },
      "source": [
        "Evaluons cette fonction, A étant déjà définie. Il suffit de créer un deuxième point."
      ]
    },
    {
      "cell_type": "code",
      "metadata": {
        "id": "ACv8-rkiDyE7",
        "colab_type": "code",
        "colab": {}
      },
      "source": [
        "B = (7,3)\n",
        "K = milieu(A,B)\n",
        "K"
      ],
      "execution_count": 0,
      "outputs": []
    },
    {
      "cell_type": "markdown",
      "metadata": {
        "id": "miFG5XwfDyFG",
        "colab_type": "text"
      },
      "source": [
        "Evidemment il est possible d'utiliser la fonction milieu avec des points autre que A et B.\n",
        "Par exemple: milieu(C,D)"
      ]
    },
    {
      "cell_type": "code",
      "metadata": {
        "id": "Zf--ZcYqDyFI",
        "colab_type": "code",
        "colab": {}
      },
      "source": [
        "\"\"\" ci-dessous définissez 2 points C et D, et utiliser la fonction milieu pour trouver les coordonnées de J milieu de [CD]\n"
      ],
      "execution_count": 0,
      "outputs": []
    },
    {
      "cell_type": "markdown",
      "metadata": {
        "id": "puLoBUeDDyFP",
        "colab_type": "text"
      },
      "source": [
        "<br>Maintenant vous pouvez utiliser la fonction _milieu_ pour générer les coordonnées d'autant de milieu que vous le souhaitez!\n"
      ]
    },
    {
      "cell_type": "markdown",
      "metadata": {
        "id": "i4hPxZUUDyFV",
        "colab_type": "text"
      },
      "source": [
        "#### I.3. Deuxième étape : création d'une fonction parallelogramme"
      ]
    },
    {
      "cell_type": "markdown",
      "metadata": {
        "id": "tpLgLF4lDyFY",
        "colab_type": "text"
      },
      "source": [
        "L'Objectif est de créer une fonction ayant comme arguments 4 points et retournant un message précisant si le quadrilatère est un parallélogramme ou non !"
      ]
    },
    {
      "cell_type": "code",
      "metadata": {
        "id": "zxSWSJkUDyFb",
        "colab_type": "code",
        "colab": {}
      },
      "source": [
        "def parallelogramme(A,B,C,D):     # ABCD parallélogramme ?\n",
        "    \n",
        "    \n",
        "    \n",
        "    \n",
        "    "
      ],
      "execution_count": 0,
      "outputs": []
    },
    {
      "cell_type": "markdown",
      "metadata": {
        "id": "zL_-ny0aDyF-",
        "colab_type": "text"
      },
      "source": [
        "Testez votre programme avec le code suivant avec 4 points, par exemple M,N,P et Q !"
      ]
    },
    {
      "cell_type": "code",
      "metadata": {
        "id": "nZABXgQpDyGB",
        "colab_type": "code",
        "colab": {}
      },
      "source": [
        "M=(3,7)\n",
        "N=\n",
        "P=\n",
        "Q=\n",
        "parallelogramme(M,N,P,Q)\n"
      ],
      "execution_count": 0,
      "outputs": []
    },
    {
      "cell_type": "markdown",
      "metadata": {
        "id": "ThVxOz9pDyGY",
        "colab_type": "text"
      },
      "source": [
        "## Bravo, vous avez fini le premier objectif ! Il ne reste plus qu'à regrouper toutes les fonctions dans Spyder, pour avoir un programme complet !"
      ]
    },
    {
      "cell_type": "code",
      "metadata": {
        "id": "0bMBY7W-DyGc",
        "colab_type": "code",
        "colab": {}
      },
      "source": [
        ""
      ],
      "execution_count": 0,
      "outputs": []
    },
    {
      "cell_type": "markdown",
      "metadata": {
        "id": "8w2p3FadDyGi",
        "colab_type": "text"
      },
      "source": [
        "### II. Objectif : utilisation de la distance."
      ]
    },
    {
      "cell_type": "markdown",
      "metadata": {
        "id": "Xpp3z50uDyGk",
        "colab_type": "text"
      },
      "source": [
        "#### II.1 Distance"
      ]
    },
    {
      "cell_type": "markdown",
      "metadata": {
        "id": "xmD10DisDyGr",
        "colab_type": "text"
      },
      "source": [
        "Après avoir créer une fonction milieu, ne nous aretons pas en si bon chemin !\n",
        "Nous allons créer une fonction <b><i>distance</i></b> ayant 2 points comme arguments et retournant un réel (la distance)"
      ]
    },
    {
      "cell_type": "code",
      "metadata": {
        "id": "p6rOwdhuDyGs",
        "colab_type": "code",
        "colab": {}
      },
      "source": [
        "from math import *    # permet d'utiliser la fonction racine carrée noté sqrt\n",
        "def distance(A,B):\n",
        "    \n",
        "    \n",
        "    return d"
      ],
      "execution_count": 0,
      "outputs": []
    },
    {
      "cell_type": "markdown",
      "metadata": {
        "id": "uo9ROk0ADyGy",
        "colab_type": "text"
      },
      "source": [
        "#### II.2 Triangle rectangle"
      ]
    },
    {
      "cell_type": "markdown",
      "metadata": {
        "id": "h8tWR95zDyGz",
        "colab_type": "text"
      },
      "source": [
        "Nous allons maintenant créer une fonction <b><i>pythagore</i></b> ayant 3 points comme arguments et qui retourne un message indiquant si le triangle est rectangle ou non."
      ]
    },
    {
      "cell_type": "code",
      "metadata": {
        "id": "lYbfbAdZDyG1",
        "colab_type": "code",
        "colab": {}
      },
      "source": [
        "def pythagore (A,B,C):\n",
        "    \n",
        "    \n",
        "    "
      ],
      "execution_count": 0,
      "outputs": []
    },
    {
      "cell_type": "markdown",
      "metadata": {
        "id": "3M8A7Ec_DyHD",
        "colab_type": "text"
      },
      "source": [
        "#### II.3 Losange et rectangle"
      ]
    },
    {
      "cell_type": "markdown",
      "metadata": {
        "id": "aguqdxSADyHG",
        "colab_type": "text"
      },
      "source": [
        "Utilisez les fonctions parallelogramme distance et pythagore pour créer deux fonctions <b>retangle</b> et <b>losange</b> permettant de dire si un quadrilatère est particulier."
      ]
    },
    {
      "cell_type": "markdown",
      "metadata": {
        "id": "K2cJKXiRDyHJ",
        "colab_type": "text"
      },
      "source": [
        "<b>Remarque :</b> les fonctions <b>parallelogramme</b> et <b>pythagore</b> retourneront <span style=\"color: #fb4141\">True</span> ou <span style=\"color: #fb4141\">False </span> pour simplifier le codage."
      ]
    },
    {
      "cell_type": "markdown",
      "metadata": {
        "id": "nDZhyj_vDyHL",
        "colab_type": "text"
      },
      "source": [
        "<b>Bon Courage ! </b>"
      ]
    },
    {
      "cell_type": "code",
      "metadata": {
        "id": "qky3Ml4YDyHM",
        "colab_type": "code",
        "colab": {}
      },
      "source": [
        "def losange(A,B,C,D):\n",
        "    \n",
        "    "
      ],
      "execution_count": 0,
      "outputs": []
    },
    {
      "cell_type": "code",
      "metadata": {
        "id": "bhAIZ5WwDyHU",
        "colab_type": "code",
        "colab": {}
      },
      "source": [
        "def rectangle(A,B,C,D):\n",
        "    "
      ],
      "execution_count": 0,
      "outputs": []
    }
  ]
}