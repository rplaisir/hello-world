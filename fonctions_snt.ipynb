{
 "cells": [
  {
   "cell_type": "markdown",
   "metadata": {},
   "source": [
    "# Quelques notions autour d'un exercice de maths"
   ]
  },
  {
   "cell_type": "markdown",
   "metadata": {},
   "source": [
    "### I. Objectif : Milieu et parallélogramme."
   ]
  },
  {
   "cell_type": "markdown",
   "metadata": {},
   "source": [
    "#### I.1. Déterminons les coordonées du milieu I d'un segment [AB]"
   ]
  },
  {
   "cell_type": "markdown",
   "metadata": {},
   "source": [
    "On récupère les coordonnées de A et B grace aux fonctions (built-in) **_input( )_** et **_float( )_**"
   ]
  },
  {
   "cell_type": "code",
   "execution_count": null,
   "metadata": {},
   "outputs": [],
   "source": [
    "xA = float(input('Abscisse de A ? '))\n",
    "yA = float(input('Ordonnée de A ? '))"
   ]
  },
  {
   "cell_type": "markdown",
   "metadata": {},
   "source": [
    "Faire de même avec le point B !"
   ]
  },
  {
   "cell_type": "code",
   "execution_count": null,
   "metadata": {},
   "outputs": [],
   "source": [
    "xB =\n",
    "yB = "
   ]
  },
  {
   "cell_type": "markdown",
   "metadata": {},
   "source": [
    "Utilisons la formule permettant de déterminer les coordonnées de I"
   ]
  },
  {
   "cell_type": "code",
   "execution_count": null,
   "metadata": {},
   "outputs": [],
   "source": [
    "xI = \n",
    "yI = \n",
    "print('Les coordonnées de I sont (',xI,';',yI,')')"
   ]
  },
  {
   "cell_type": "markdown",
   "metadata": {},
   "source": [
    "### L'objectif de cette séquence sera de créer un programme permettant de tester si un quadrilatère ABCD est un parallélogramme"
   ]
  },
  {
   "cell_type": "markdown",
   "metadata": {},
   "source": [
    "#### I.2. Première étape : création d'une fonction permettant de calculer les coordonnées d'un milieu"
   ]
  },
  {
   "cell_type": "markdown",
   "metadata": {},
   "source": [
    "Il n'est pas très pratique de réecrire les lignes de code précédente pour les points C, D et J.\n",
    "Nous allons donc utiliser les **fonctions**"
   ]
  },
  {
   "cell_type": "markdown",
   "metadata": {},
   "source": [
    "Avant cela il pourrait être utile de découvrir une variable d'un nouveau type : les **_tuples_**"
   ]
  },
  {
   "cell_type": "code",
   "execution_count": null,
   "metadata": {},
   "outputs": [],
   "source": [
    "A = (5,-2)\n",
    "A"
   ]
  },
  {
   "cell_type": "markdown",
   "metadata": {},
   "source": [
    "Il est évident que les tuples sont très pratiques dans notre situation car, on peut définir un point en donnant directement ses coordonnées !"
   ]
  },
  {
   "cell_type": "markdown",
   "metadata": {},
   "source": [
    "**_Remarque :_** Un tuple peut contenir autre chose que des nombres et peut être constitué de plus de 2 éléments !"
   ]
  },
  {
   "cell_type": "code",
   "execution_count": null,
   "metadata": {},
   "outputs": [],
   "source": [
    "couple = ('2F',33)\n",
    "triplet = (1,2,-7.5)"
   ]
  },
  {
   "cell_type": "markdown",
   "metadata": {},
   "source": [
    "Maintenant que nous savons définir un tuple, il nous faut apprendre à accéder à une valeur du tuple.\n",
    "En fait, un tuple est une \"sorte\" de liste donc chaque élément est indexé (\"numéroté\") en commençant à 0."
   ]
  },
  {
   "cell_type": "code",
   "execution_count": null,
   "metadata": {},
   "outputs": [],
   "source": [
    "A[0]"
   ]
  },
  {
   "cell_type": "code",
   "execution_count": null,
   "metadata": {},
   "outputs": [],
   "source": [
    "A[1]"
   ]
  },
  {
   "cell_type": "markdown",
   "metadata": {},
   "source": [
    "Nous avons tous les éléments pour créer une fonction : \n",
    "on utilise l'instruction **def** nom_fonction (*argument1,argument2,...*)<span style=\"color: #fb4141\"><b>:</b></span>\n",
    "puis l'instruction <span style=\"color: #fb4141\"><b>return</b></span> pour renvoyer un résultat\n",
    "par exemple, créons une fonction milieu."
   ]
  },
  {
   "cell_type": "code",
   "execution_count": null,
   "metadata": {},
   "outputs": [],
   "source": [
    "def milieu(A,B):\n",
    "    # milieu a 2 arguments les points A et B\n",
    "    xI = (A[0]+B[0])/2\n",
    "    # à compléter avec yI\n",
    "    \n",
    "    return (xI,yI)     # la fonction retourne un tuple correspondant aux coordonnées du milieu de [AB] (explication à suivre)"
   ]
  },
  {
   "cell_type": "markdown",
   "metadata": {},
   "source": [
    "Décortiquons un peu ce code :\n",
    "* **def** permet de créer une fonction que l'on nomme _milieu_\n",
    "* cette fonction nécessite deux **arguments** _A_ et _B_ pour être éxécutée\n",
    "* A et B étant des tuples pour permettre d'avoir des coordonnées\n",
    "* l'instruction **return** permet de récupérer les coordonnées du milieu"
   ]
  },
  {
   "cell_type": "markdown",
   "metadata": {},
   "source": [
    "Evaluons cette fonction, A étant déjà définie. Il suffit de créer un deuxième point."
   ]
  },
  {
   "cell_type": "code",
   "execution_count": null,
   "metadata": {},
   "outputs": [],
   "source": [
    "B = (7,3)\n",
    "K = milieu(A,B)\n",
    "K"
   ]
  },
  {
   "cell_type": "markdown",
   "metadata": {},
   "source": [
    "Evidemment il est possible d'utiliser la fonction milieu avec des points autre que A et B.\n",
    "Par exemple: milieu(C,D)"
   ]
  },
  {
   "cell_type": "code",
   "execution_count": null,
   "metadata": {},
   "outputs": [],
   "source": [
    "\"\"\" ci-dessous définissez 2 points C et D, et utiliser la fonction milieu \n",
    "pour trouver les coordonnées de J milieu de [CD]\"\"\"\n"
   ]
  },
  {
   "cell_type": "markdown",
   "metadata": {},
   "source": [
    "<br>Maintenant vous pouvez utiliser la fonction _milieu_ pour générer les coordonnées d'autant de milieu que vous le souhaitez!\n"
   ]
  },
  {
   "cell_type": "markdown",
   "metadata": {},
   "source": [
    "#### I.3. Deuxième étape : création d'une fonction parallelogramme"
   ]
  },
  {
   "cell_type": "markdown",
   "metadata": {},
   "source": [
    "L'Objectif est de créer une fonction ayant comme arguments 4 points et retournant un message précisant si le quadrilatère est un parallélogramme ou non !"
   ]
  },
  {
   "cell_type": "code",
   "execution_count": null,
   "metadata": {},
   "outputs": [],
   "source": [
    "def parallelogramme(A,B,C,D):     \n",
    "    # ABCD parallélogramme ?\n",
    "    \n",
    "    \n",
    "    \n",
    "    \n",
    "    \n",
    "    "
   ]
  },
  {
   "cell_type": "markdown",
   "metadata": {},
   "source": [
    "Testez votre programme avec le code suivant avec 4 points, par exemple M,N,P et Q !"
   ]
  },
  {
   "cell_type": "code",
   "execution_count": null,
   "metadata": {},
   "outputs": [],
   "source": [
    "M=(3,7)\n",
    "N=\n",
    "P=\n",
    "Q=\n",
    "parallelogramme(M,N,P,Q)\n"
   ]
  },
  {
   "cell_type": "markdown",
   "metadata": {},
   "source": [
    "## Bravo, vous avez fini le premier objectif ! Il ne reste plus qu'à regrouper toutes les fonctions dans Spyder, pour avoir un programme complet !"
   ]
  },
  {
   "cell_type": "code",
   "execution_count": null,
   "metadata": {},
   "outputs": [],
   "source": []
  },
  {
   "cell_type": "markdown",
   "metadata": {},
   "source": [
    "### II. Objectif : utilisation de la distance."
   ]
  },
  {
   "cell_type": "markdown",
   "metadata": {},
   "source": [
    "#### II.1 Distance"
   ]
  },
  {
   "cell_type": "markdown",
   "metadata": {},
   "source": [
    "Après avoir créer une fonction milieu, ne nous aretons pas en si bon chemin !\n",
    "Nous allons créer une fonction <b><i>distance</i></b> ayant 2 points comme arguments et retournant un réel (la distance)"
   ]
  },
  {
   "cell_type": "code",
   "execution_count": null,
   "metadata": {},
   "outputs": [],
   "source": [
    "from math import *    # permet d'utiliser la fonction racine carrée noté sqrt\n",
    "def distance(A,B):\n",
    "    \n",
    "    \n",
    "    return d"
   ]
  },
  {
   "cell_type": "markdown",
   "metadata": {},
   "source": [
    "#### II.2 Triangle rectangle"
   ]
  },
  {
   "cell_type": "markdown",
   "metadata": {},
   "source": [
    "Nous allons maintenant créer une fonction <b><i>pythagore</i></b> ayant 3 points comme arguments et qui retourne un message indiquant si le triangle est rectangle ou non."
   ]
  },
  {
   "cell_type": "code",
   "execution_count": null,
   "metadata": {},
   "outputs": [],
   "source": [
    "def pythagore (A,B,C):\n",
    "    \n",
    "    \n",
    "    "
   ]
  },
  {
   "cell_type": "markdown",
   "metadata": {},
   "source": [
    "#### II.3 Losange et rectangle"
   ]
  },
  {
   "cell_type": "markdown",
   "metadata": {},
   "source": [
    "Utilisez les fonctions parallelogramme distance et pythagore pour créer deux fonctions <b>retangle</b> et <b>losange</b> permettant de dire si un quadrilatère est particulier."
   ]
  },
  {
   "cell_type": "markdown",
   "metadata": {},
   "source": [
    "<b>Remarque :</b> les fonctions <b>parallelogramme</b> et <b>pythagore</b> retourneront <span style=\"color: #fb4141\">True</span> ou <span style=\"color: #fb4141\">False </span> pour simplifier le codage."
   ]
  },
  {
   "cell_type": "markdown",
   "metadata": {},
   "source": [
    "<b>Bon Courage ! </b>"
   ]
  },
  {
   "cell_type": "code",
   "execution_count": null,
   "metadata": {},
   "outputs": [],
   "source": [
    "def losange(A,B,C,D):\n",
    "    \n",
    "    "
   ]
  },
  {
   "cell_type": "code",
   "execution_count": null,
   "metadata": {},
   "outputs": [],
   "source": [
    "def rectangle(A,B,C,D):\n",
    "    "
   ]
  }
 ],
 "metadata": {
  "kernelspec": {
   "display_name": "Python 3",
   "language": "python",
   "name": "python3"
  },
  "language_info": {
   "codemirror_mode": {
    "name": "ipython",
    "version": 3
   },
   "file_extension": ".py",
   "mimetype": "text/x-python",
   "name": "python",
   "nbconvert_exporter": "python",
   "pygments_lexer": "ipython3",
   "version": "3.7.3"
  }
 },
 "nbformat": 4,
 "nbformat_minor": 2
}
