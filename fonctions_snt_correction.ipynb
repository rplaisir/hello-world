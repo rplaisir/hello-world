{
  "nbformat": 4,
  "nbformat_minor": 0,
  "metadata": {
    "kernelspec": {
      "display_name": "Python 3",
      "language": "python",
      "name": "python3"
    },
    "language_info": {
      "codemirror_mode": {
        "name": "ipython",
        "version": 3
      },
      "file_extension": ".py",
      "mimetype": "text/x-python",
      "name": "python",
      "nbconvert_exporter": "python",
      "pygments_lexer": "ipython3",
      "version": "3.7.3"
    },
    "colab": {
      "name": "fonctions_snt_correction.ipynb",
      "provenance": [],
      "include_colab_link": true
    }
  },
  "cells": [
    {
      "cell_type": "markdown",
      "metadata": {
        "id": "view-in-github",
        "colab_type": "text"
      },
      "source": [
        "<a href=\"https://colab.research.google.com/github/rplaisir/hello-world/blob/master/fonctions_snt_correction.ipynb\" target=\"_parent\"><img src=\"https://colab.research.google.com/assets/colab-badge.svg\" alt=\"Open In Colab\"/></a>"
      ]
    },
    {
      "cell_type": "markdown",
      "metadata": {
        "id": "nLj7VTO_3YEw",
        "colab_type": "text"
      },
      "source": [
        "# Quelques notions autour d'un exercice de maths"
      ]
    },
    {
      "cell_type": "markdown",
      "metadata": {
        "id": "75DZZkOJ3YE3",
        "colab_type": "text"
      },
      "source": [
        "### I. Objectif : Milieu et parallélogramme."
      ]
    },
    {
      "cell_type": "markdown",
      "metadata": {
        "id": "O6fmgFUg3YE6",
        "colab_type": "text"
      },
      "source": [
        "#### I.1. Déterminons les coordonées du milieu I d'un segment [AB]"
      ]
    },
    {
      "cell_type": "markdown",
      "metadata": {
        "id": "ZFLeyAbG3YE8",
        "colab_type": "text"
      },
      "source": [
        "On récupère les coordonnées de A et B grace aux fonctions (built-in) **_input( )_** et **_float( )_**"
      ]
    },
    {
      "cell_type": "code",
      "metadata": {
        "id": "qzCiX0fo3YE-",
        "colab_type": "code",
        "colab": {},
        "outputId": "8d128018-1742-4cfe-f8f6-23c367e1f544"
      },
      "source": [
        "xA = float(input('Abscisse de A ? '))\n",
        "yA = float(input('Ordonnée de A ? '))"
      ],
      "execution_count": 0,
      "outputs": [
        {
          "output_type": "stream",
          "text": [
            "Abscisse de A ? 1\n",
            "Ordonnée de A ? 2\n"
          ],
          "name": "stdout"
        }
      ]
    },
    {
      "cell_type": "markdown",
      "metadata": {
        "id": "50Z451F_3YFF",
        "colab_type": "text"
      },
      "source": [
        "Faire de même avec le point B !"
      ]
    },
    {
      "cell_type": "code",
      "metadata": {
        "id": "zjEB78U_3YFG",
        "colab_type": "code",
        "colab": {},
        "outputId": "ea20191c-91a2-4738-ccd3-01544a70f2a5"
      },
      "source": [
        "xB = float(input('Abscisse de B ? '))\n",
        "yB = float(input('Ordonnée de B ? '))"
      ],
      "execution_count": 0,
      "outputs": [
        {
          "output_type": "stream",
          "text": [
            "Abscisse de B ? 4\n",
            "Ordonnée de B ? -5\n"
          ],
          "name": "stdout"
        }
      ]
    },
    {
      "cell_type": "markdown",
      "metadata": {
        "id": "q8dSzNXe3YFK",
        "colab_type": "text"
      },
      "source": [
        "Utilisons la formule permettant de déterminer les coordonnées de I"
      ]
    },
    {
      "cell_type": "code",
      "metadata": {
        "id": "lwvWM-eB3YFL",
        "colab_type": "code",
        "colab": {},
        "outputId": "c6a25539-3ed6-4c44-dc5a-3e6bba240cde"
      },
      "source": [
        "xI = (xA+xB)/2\n",
        "yI = (yA+yB)/2\n",
        "print('Les coordonnées de I sont (',xI,';',yI,')')"
      ],
      "execution_count": 0,
      "outputs": [
        {
          "output_type": "stream",
          "text": [
            "Les coordonnées de I sont ( 2.5 ; -1.5 )\n"
          ],
          "name": "stdout"
        }
      ]
    },
    {
      "cell_type": "markdown",
      "metadata": {
        "id": "m7Yrath33YFP",
        "colab_type": "text"
      },
      "source": [
        "### L'objectif de cette séquence sera de créer un programme permettant de tester si un quadrilatère ABCD est un parallélogramme"
      ]
    },
    {
      "cell_type": "markdown",
      "metadata": {
        "id": "TznbtpHH3YFQ",
        "colab_type": "text"
      },
      "source": [
        "#### I.2. Première étape : création d'une fonction permettant de calculer les coordonnées d'un milieu"
      ]
    },
    {
      "cell_type": "markdown",
      "metadata": {
        "id": "7MCdBZOY3YFR",
        "colab_type": "text"
      },
      "source": [
        "Il n'est pas très pratique de réecrire les lignes de code précédente pour les points C, D et J.\n",
        "Nous allons donc utiliser les **fonctions**"
      ]
    },
    {
      "cell_type": "markdown",
      "metadata": {
        "id": "av9WL0gX3YFS",
        "colab_type": "text"
      },
      "source": [
        "Avant cela il pourrait être utile de découvrir une variable d'un nouveau type : les **_tuples_**"
      ]
    },
    {
      "cell_type": "code",
      "metadata": {
        "id": "zRduI1Vk3YFS",
        "colab_type": "code",
        "colab": {},
        "outputId": "97073b34-0bff-4df4-c395-c13c96dec1d6"
      },
      "source": [
        "A = (5,-2)\n",
        "A"
      ],
      "execution_count": 0,
      "outputs": [
        {
          "output_type": "execute_result",
          "data": {
            "text/plain": [
              "(5, -2)"
            ]
          },
          "metadata": {
            "tags": []
          },
          "execution_count": 4
        }
      ]
    },
    {
      "cell_type": "markdown",
      "metadata": {
        "id": "eDIR1vBt3YFV",
        "colab_type": "text"
      },
      "source": [
        "Il est évident que les tuples sont très pratiques dans notre situation car, on peut définir un point en donnant directement ses coordonnées !"
      ]
    },
    {
      "cell_type": "markdown",
      "metadata": {
        "id": "xXypDEiG3YFW",
        "colab_type": "text"
      },
      "source": [
        "**_Remarque :_** Un tuple peut contenir autre chose que des nombres et peut être constitué de plus de 2 éléments !"
      ]
    },
    {
      "cell_type": "code",
      "metadata": {
        "id": "7iQSED7Q3YFX",
        "colab_type": "code",
        "colab": {}
      },
      "source": [
        "couple = ('2F',33)\n",
        "triplet = (1,2,-7.5)"
      ],
      "execution_count": 0,
      "outputs": []
    },
    {
      "cell_type": "markdown",
      "metadata": {
        "id": "4ypqVmYS3YFc",
        "colab_type": "text"
      },
      "source": [
        "Maintenant que nous savons définir un tuple, il nous faut apprendre à accéder à une valeur du tuple.\n",
        "En fait, un tuple est une \"sorte\" de liste donc chaque élément est indexé (\"numéroté\") en commençant à 0."
      ]
    },
    {
      "cell_type": "code",
      "metadata": {
        "id": "hEOB8z9z3YFd",
        "colab_type": "code",
        "colab": {},
        "outputId": "69ae38e2-fee6-41d0-e45f-808fb0e68adf"
      },
      "source": [
        "A[0]"
      ],
      "execution_count": 0,
      "outputs": [
        {
          "output_type": "execute_result",
          "data": {
            "text/plain": [
              "5"
            ]
          },
          "metadata": {
            "tags": []
          },
          "execution_count": 6
        }
      ]
    },
    {
      "cell_type": "code",
      "metadata": {
        "id": "fuH-IJ3N3YFg",
        "colab_type": "code",
        "colab": {},
        "outputId": "2db8ae77-ef7e-49fb-9180-dc47071dafd2"
      },
      "source": [
        "A[1]"
      ],
      "execution_count": 0,
      "outputs": [
        {
          "output_type": "execute_result",
          "data": {
            "text/plain": [
              "-2"
            ]
          },
          "metadata": {
            "tags": []
          },
          "execution_count": 7
        }
      ]
    },
    {
      "cell_type": "markdown",
      "metadata": {
        "id": "cX3H0LlX3YFi",
        "colab_type": "text"
      },
      "source": [
        "Nous avons tous les éléments pour créer une fonction : \n",
        "on utilise l'instruction **def** nom_fonction (*argument1,argument2,...*)<span style=\"color: #fb4141\"><b>:</b></span>\n",
        "puis l'instruction <span style=\"color: #fb4141\"><b>return</b></span> pour renvoyer un résultat\n",
        "par exemple, créons une fonction milieu."
      ]
    },
    {
      "cell_type": "code",
      "metadata": {
        "id": "mzomd6mk3YFi",
        "colab_type": "code",
        "colab": {}
      },
      "source": [
        "def milieu(A,B):\n",
        "    # milieu a 2 arguments les points A et B\n",
        "    xI = (A[0]+B[0])/2\n",
        "    yI = (A[1]+B[1])/2\n",
        "    return (xI,yI)     # la fonction retourne un tuple correspondant aux coordonnées du milieu de [AB] (explication à suivre)"
      ],
      "execution_count": 0,
      "outputs": []
    },
    {
      "cell_type": "markdown",
      "metadata": {
        "id": "unFIQhq-3YFl",
        "colab_type": "text"
      },
      "source": [
        "Décortiquons un peu ce code :\n",
        "* **def** permet de créer une fonction que l'on nomme _milieu_\n",
        "* cette fonction nécessite deux **arguments** _A_ et _B_ pour être éxécutée\n",
        "* A et B étant des tuples pour permettre d'avoir des coordonnées\n",
        "* l'instruction **return** permet de récupérer les coordonnées du milieu"
      ]
    },
    {
      "cell_type": "markdown",
      "metadata": {
        "id": "2uiCJOys3YFl",
        "colab_type": "text"
      },
      "source": [
        "Evaluons cette fonction, A étant déjà définie. Il suffit de créer un deuxième point."
      ]
    },
    {
      "cell_type": "code",
      "metadata": {
        "id": "rwYHvi3m3YFm",
        "colab_type": "code",
        "colab": {},
        "outputId": "e1808184-b0d7-4b63-cd04-d58cfa879820"
      },
      "source": [
        "B = (7,3)\n",
        "K = milieu(A,B)\n",
        "K"
      ],
      "execution_count": 0,
      "outputs": [
        {
          "output_type": "execute_result",
          "data": {
            "text/plain": [
              "(6.0, 0.5)"
            ]
          },
          "metadata": {
            "tags": []
          },
          "execution_count": 9
        }
      ]
    },
    {
      "cell_type": "markdown",
      "metadata": {
        "id": "vmGwPwAs3YFo",
        "colab_type": "text"
      },
      "source": [
        "Evidemment il est possible d'utiliser la fonction milieu avec des points autre que A et B.\n",
        "Par exemple: milieu(C,D)"
      ]
    },
    {
      "cell_type": "code",
      "metadata": {
        "id": "sFgd8kd23YFp",
        "colab_type": "code",
        "colab": {},
        "outputId": "5f50ea46-2048-4c1b-aa17-318c8a33e755"
      },
      "source": [
        "\"\"\" ci-dessous définissez 2 points C et D, et utiliser la fonction milieu pour trouver les coordonnées de J milieu de [CD]\"\"\"\n",
        "C = (-7,-3)\n",
        "D = (-1,2)\n",
        "milieu(C,D)"
      ],
      "execution_count": 0,
      "outputs": [
        {
          "output_type": "execute_result",
          "data": {
            "text/plain": [
              "(-4.0, -0.5)"
            ]
          },
          "metadata": {
            "tags": []
          },
          "execution_count": 10
        }
      ]
    },
    {
      "cell_type": "markdown",
      "metadata": {
        "id": "Ea3xnJDq3YFr",
        "colab_type": "text"
      },
      "source": [
        "<br>Maintenant vous pouvez utiliser la fonction _milieu_ pour générer les coordonnées d'autant de milieu que vous le souhaitez!\n"
      ]
    },
    {
      "cell_type": "markdown",
      "metadata": {
        "id": "puflXral3YFs",
        "colab_type": "text"
      },
      "source": [
        "#### I.3. Deuxième étape : création d'une fonction parallelogramme"
      ]
    },
    {
      "cell_type": "markdown",
      "metadata": {
        "id": "8um-HPeh3YFt",
        "colab_type": "text"
      },
      "source": [
        "L'Objectif est de créer une fonction ayant comme arguments 4 points et retournant un message précisant si le quadrilatère est un parallélogramme ou non !"
      ]
    },
    {
      "cell_type": "code",
      "metadata": {
        "id": "VPt9w-zy3YFu",
        "colab_type": "code",
        "colab": {}
      },
      "source": [
        "def parallelogramme(A,B,C,D):     \n",
        "    # ABCD parallélogramme ?\n",
        "    # calcul des coordonnées des milieux des 2 diagonales en utilisant la fonction milieu\n",
        "    K = milieu(A,C)    # diagonale [AC]\n",
        "    L = milieu(B,D)    # diagonale [BD]\n",
        "    # test d'égalité des points K et L (sont-ils confondus ?)\n",
        "    if K == L:\n",
        "        print(\"Le quadrilatère est un parallélogramme\")\n",
        "        return True       # retourne la valeur True (vraie)\n",
        "    else :\n",
        "        print(\"Le quadrilatère n'est pas un parallélogramme\")\n",
        "        return False       # retourne la valeur False (False)\n",
        "        \n",
        "    \n",
        "    \n",
        "    \n",
        "    \n",
        "    "
      ],
      "execution_count": 0,
      "outputs": []
    },
    {
      "cell_type": "markdown",
      "metadata": {
        "id": "l3AELitI3YFw",
        "colab_type": "text"
      },
      "source": [
        "Testez votre programme avec le code suivant avec 4 points, par exemple M,N,P et Q !"
      ]
    },
    {
      "cell_type": "code",
      "metadata": {
        "id": "EUIVbbmL3YFw",
        "colab_type": "code",
        "colab": {},
        "outputId": "548ece3d-558c-4ac7-a541-4ba59275668a"
      },
      "source": [
        "M = (3,7)\n",
        "N = (-2,5)\n",
        "P = (5,2)\n",
        "Q = (1,6)\n",
        "parallelogramme(M,N,P,Q)\n"
      ],
      "execution_count": 0,
      "outputs": [
        {
          "output_type": "stream",
          "text": [
            "Le quadrilatère n'est pas un parallélogramme\n"
          ],
          "name": "stdout"
        },
        {
          "output_type": "execute_result",
          "data": {
            "text/plain": [
              "False"
            ]
          },
          "metadata": {
            "tags": []
          },
          "execution_count": 12
        }
      ]
    },
    {
      "cell_type": "code",
      "metadata": {
        "id": "SrzJxio23YFz",
        "colab_type": "code",
        "colab": {},
        "outputId": "8dd856f4-275f-4690-b5f8-21a695ac0007"
      },
      "source": [
        "R = (-1,2)\n",
        "S = (2,7)\n",
        "T = (8,8)\n",
        "U = (5,3)\n",
        "parallelogramme(R,S,T,U)\n"
      ],
      "execution_count": 0,
      "outputs": [
        {
          "output_type": "stream",
          "text": [
            "Le quadrilatère est un parallélogramme\n"
          ],
          "name": "stdout"
        },
        {
          "output_type": "execute_result",
          "data": {
            "text/plain": [
              "True"
            ]
          },
          "metadata": {
            "tags": []
          },
          "execution_count": 13
        }
      ]
    },
    {
      "cell_type": "markdown",
      "metadata": {
        "id": "Oq8Qeyom3YF2",
        "colab_type": "text"
      },
      "source": [
        "## Bravo, vous avez fini le premier objectif ! Il ne reste plus qu'à regrouper toutes les fonctions dans Spyder, pour avoir un programme complet !"
      ]
    },
    {
      "cell_type": "markdown",
      "metadata": {
        "id": "9cf5mSCE3YF3",
        "colab_type": "text"
      },
      "source": [
        "### II. Objectif : utilisation de la distance."
      ]
    },
    {
      "cell_type": "markdown",
      "metadata": {
        "id": "Z94dvEEF3YF4",
        "colab_type": "text"
      },
      "source": [
        "#### II.1 Distance"
      ]
    },
    {
      "cell_type": "markdown",
      "metadata": {
        "id": "Ozh9FCZ73YF5",
        "colab_type": "text"
      },
      "source": [
        "Après avoir créer une fonction milieu, ne nous aretons pas en si bon chemin !\n",
        "Nous allons créer une fonction <b><i>distance</i></b> ayant 2 points comme arguments et retournant un réel (la distance)"
      ]
    },
    {
      "cell_type": "code",
      "metadata": {
        "id": "Biw1fdxZ3YF7",
        "colab_type": "code",
        "colab": {}
      },
      "source": [
        "from math import *    # permet d'utiliser la fonction racine carrée noté sqrt\n",
        "def distance(A,B):\n",
        "    # pour les puissances on utilise ** par exemple a² on écrit a**2\n",
        "    d = sqrt((B[0]-A[0])**2+(B[1]-A[1])**2)\n",
        "    \n",
        "    return d"
      ],
      "execution_count": 0,
      "outputs": []
    },
    {
      "cell_type": "code",
      "metadata": {
        "id": "FQbiB9VT3YF_",
        "colab_type": "code",
        "colab": {},
        "outputId": "7fee1473-904d-44ba-cc63-0f1487305c2b"
      },
      "source": [
        "distance(M,N)"
      ],
      "execution_count": 0,
      "outputs": [
        {
          "output_type": "execute_result",
          "data": {
            "text/plain": [
              "5.385164807134504"
            ]
          },
          "metadata": {
            "tags": []
          },
          "execution_count": 15
        }
      ]
    },
    {
      "cell_type": "code",
      "metadata": {
        "id": "KruJ_5o63YGC",
        "colab_type": "code",
        "colab": {},
        "outputId": "25ba9f7e-36cf-457d-e1b5-aae02926e111"
      },
      "source": [
        "ST = distance(S,T)\n",
        "print(ST)"
      ],
      "execution_count": 0,
      "outputs": [
        {
          "output_type": "stream",
          "text": [
            "6.082762530298219\n"
          ],
          "name": "stdout"
        }
      ]
    },
    {
      "cell_type": "markdown",
      "metadata": {
        "id": "F_KsW8rb3YGE",
        "colab_type": "text"
      },
      "source": [
        "#### II.2 Triangle rectangle"
      ]
    },
    {
      "cell_type": "markdown",
      "metadata": {
        "id": "hMXqjmGp3YGF",
        "colab_type": "text"
      },
      "source": [
        "Nous allons maintenant créer une fonction <b><i>pythagore</i></b> ayant 3 points comme arguments et qui retourne un message indiquant si le triangle est rectangle ou non."
      ]
    },
    {
      "cell_type": "code",
      "metadata": {
        "id": "EniGzfq03YGG",
        "colab_type": "code",
        "colab": {}
      },
      "source": [
        "def pythagore (A,B,C):\n",
        "    # calcul des 3 distances\n",
        "    AB = distance(A,B)\n",
        "    BC = distance(A,C)\n",
        "    AC = distance(B,C)\n",
        "    # test des 3 égalités de Pythagore\n",
        "    if AB**2 + AC**2 == BC**2 or AB**2 + BC**2 == AC**2 or AC**2 + BC**2 == AB**2:\n",
        "        print(\"Le triangle est rectngle\")\n",
        "        return True\n",
        "    else:\n",
        "        print(\"Le triangle n'est pas rectngle\")\n",
        "        return False  \n",
        "    \n",
        "    \n",
        "    "
      ],
      "execution_count": 0,
      "outputs": []
    },
    {
      "cell_type": "code",
      "metadata": {
        "id": "gi7h-x0o3YGI",
        "colab_type": "code",
        "colab": {},
        "outputId": "5688879e-c6c1-42d8-db21-0005cf0e499a"
      },
      "source": [
        "pythagore(R,S,T)"
      ],
      "execution_count": 0,
      "outputs": [
        {
          "output_type": "stream",
          "text": [
            "Le triangle n'est pas rectngle\n"
          ],
          "name": "stdout"
        },
        {
          "output_type": "execute_result",
          "data": {
            "text/plain": [
              "False"
            ]
          },
          "metadata": {
            "tags": []
          },
          "execution_count": 18
        }
      ]
    },
    {
      "cell_type": "code",
      "metadata": {
        "id": "i8wyHLy03YGL",
        "colab_type": "code",
        "colab": {},
        "outputId": "e7b5a388-6e09-43f5-acdc-c8b5d04a6c89"
      },
      "source": [
        "# avec 3 autres points\n",
        "O = (0,0)\n",
        "A = (5,0)\n",
        "B = (0,7)\n",
        "pythagore(O,A,B)"
      ],
      "execution_count": 0,
      "outputs": [
        {
          "output_type": "stream",
          "text": [
            "Le triangle est rectngle\n"
          ],
          "name": "stdout"
        },
        {
          "output_type": "execute_result",
          "data": {
            "text/plain": [
              "True"
            ]
          },
          "metadata": {
            "tags": []
          },
          "execution_count": 19
        }
      ]
    },
    {
      "cell_type": "markdown",
      "metadata": {
        "id": "DhQTU5_P3YGN",
        "colab_type": "text"
      },
      "source": [
        "#### II.3 Losange et rectangle"
      ]
    },
    {
      "cell_type": "markdown",
      "metadata": {
        "id": "3OqCkkoZ3YGO",
        "colab_type": "text"
      },
      "source": [
        "Utilisez les fonctions parallelogramme distance et pythagore pour créer deux fonctions <b>retangle</b> et <b>losange</b> permettant de dire si un quadrilatère est particulier."
      ]
    },
    {
      "cell_type": "markdown",
      "metadata": {
        "id": "EUqOJA-Z3YGP",
        "colab_type": "text"
      },
      "source": [
        "<b>Remarque :</b> les fonctions <b>parallelogramme</b> et <b>pythagore</b> retourneront <span style=\"color: #fb4141\">True</span> ou <span style=\"color: #fb4141\">False </span> pour simplifier le codage."
      ]
    },
    {
      "cell_type": "markdown",
      "metadata": {
        "id": "h-FoGbG93YGP",
        "colab_type": "text"
      },
      "source": [
        "<b>Bon Courage ! </b>"
      ]
    },
    {
      "cell_type": "code",
      "metadata": {
        "id": "NOjhvBd43YGQ",
        "colab_type": "code",
        "colab": {}
      },
      "source": [
        "def losange(A,B,C,D):\n",
        "    # version utilisant les 4 distances\n",
        "    if distance(A,B) == distance(B,C) == distance(C,D) == distance(A,D):\n",
        "        print(\"le quadrilatère est un losange\")\n",
        "        return True\n",
        "    else:\n",
        "        print(\"le quadrilatère n'est pas un losange\")\n",
        "        return False  \n",
        "    \n",
        "    "
      ],
      "execution_count": 0,
      "outputs": []
    },
    {
      "cell_type": "code",
      "metadata": {
        "id": "2A43LbTe3YGS",
        "colab_type": "code",
        "colab": {},
        "outputId": "b99b65f9-38cc-4a43-cc78-fefab6722042"
      },
      "source": [
        "# on utilise les points R, S , T et U précédemment utilisés (RSTU est parallélogramme)\n",
        "losange(R,S,T,U)"
      ],
      "execution_count": 0,
      "outputs": [
        {
          "output_type": "stream",
          "text": [
            "le quadrilatère n'est pas un losange\n"
          ],
          "name": "stdout"
        },
        {
          "output_type": "execute_result",
          "data": {
            "text/plain": [
              "False"
            ]
          },
          "metadata": {
            "tags": []
          },
          "execution_count": 21
        }
      ]
    },
    {
      "cell_type": "code",
      "metadata": {
        "id": "u6Dc_C4h3YGW",
        "colab_type": "code",
        "colab": {},
        "outputId": "93c6b611-7e3f-4faa-c6bf-98bb3269dafc"
      },
      "source": [
        "# je redéfinie 4 points M,N,P et Q\n",
        "M = (0,1)\n",
        "N = (3,0)\n",
        "P = (0,-1)\n",
        "Q = (-3,0)\n",
        "losange(M,N,P,Q)"
      ],
      "execution_count": 0,
      "outputs": [
        {
          "output_type": "stream",
          "text": [
            "le quadrilatère est un losange\n"
          ],
          "name": "stdout"
        },
        {
          "output_type": "execute_result",
          "data": {
            "text/plain": [
              "True"
            ]
          },
          "metadata": {
            "tags": []
          },
          "execution_count": 22
        }
      ]
    },
    {
      "cell_type": "markdown",
      "metadata": {
        "id": "DT-FMBeI3YGa",
        "colab_type": "text"
      },
      "source": [
        "#### Fonction losange utilisant la fonction parallélogramme"
      ]
    },
    {
      "cell_type": "code",
      "metadata": {
        "id": "s6WYZg163YGa",
        "colab_type": "code",
        "colab": {}
      },
      "source": [
        "def losange_ver2(A,B,C,D):\n",
        "    # version utilisant ABCD parallelogramme et 2 cotés consécutifs égaux\n",
        "    if parallelogramme(A,B,C,D) and distance(A,B) == distance(B,C):\n",
        "        # il faut que les 2 conditions soient réunies parallelogramme(A,B,C,D) : True et  distance(A,B) == distance(B,C) : True\n",
        "        print(\"le quadrilatère est un losange\")\n",
        "        return True\n",
        "    else:\n",
        "        print(\"le quadrilatère n'est pas un losange\")\n",
        "        return False"
      ],
      "execution_count": 0,
      "outputs": []
    },
    {
      "cell_type": "code",
      "metadata": {
        "id": "3vJWmFQh3YGc",
        "colab_type": "code",
        "colab": {},
        "outputId": "bdc354ca-604e-4cd4-f990-8b9b3536a218"
      },
      "source": [
        "losange_ver2(R,S,T,U)\n",
        "# Remarque : Si vous ne voulez pas de la phrase \"Le quadrilatère est un parallélogramme\"\n",
        "# il faut supprimer le \"print\" dans la foncion parallelogramme"
      ],
      "execution_count": 0,
      "outputs": [
        {
          "output_type": "stream",
          "text": [
            "Le quadrilatère est un parallélogramme\n",
            "le quadrilatère n'est pas un losange\n"
          ],
          "name": "stdout"
        },
        {
          "output_type": "execute_result",
          "data": {
            "text/plain": [
              "False"
            ]
          },
          "metadata": {
            "tags": []
          },
          "execution_count": 24
        }
      ]
    },
    {
      "cell_type": "code",
      "metadata": {
        "id": "4JINAxIL3YGe",
        "colab_type": "code",
        "colab": {},
        "outputId": "2e21dc82-84cf-44fe-ecfd-899165872ec6"
      },
      "source": [
        "losange_ver2(M,N,P,Q)\n",
        "# Remarque : Si vous ne voulez pas de la phrase \"Le quadrilatère est un parallélogramme\"\n",
        "# il faut supprimer le \"print\" dans la foncion parallelogramme"
      ],
      "execution_count": 0,
      "outputs": [
        {
          "output_type": "stream",
          "text": [
            "Le quadrilatère est un parallélogramme\n",
            "le quadrilatère est un losange\n"
          ],
          "name": "stdout"
        },
        {
          "output_type": "execute_result",
          "data": {
            "text/plain": [
              "True"
            ]
          },
          "metadata": {
            "tags": []
          },
          "execution_count": 25
        }
      ]
    },
    {
      "cell_type": "markdown",
      "metadata": {
        "id": "V-b4aK9H3YGg",
        "colab_type": "text"
      },
      "source": [
        "<br>\n",
        "Pour la fonction rectangle vous devrez utiliser la fonction parallelogramme et la fonction distance ou la fonction pythagore.\n",
        "<br>"
      ]
    },
    {
      "cell_type": "code",
      "metadata": {
        "id": "lJIqpTXo3YGg",
        "colab_type": "code",
        "colab": {},
        "outputId": "76079193-e90c-45cf-e3ca-53e0471d80db"
      },
      "source": [
        "def rectangle(A,B,C,D):\n",
        "    "
      ],
      "execution_count": 0,
      "outputs": [
        {
          "output_type": "error",
          "ename": "SyntaxError",
          "evalue": "unexpected EOF while parsing (<ipython-input-26-5cada17550d4>, line 2)",
          "traceback": [
            "\u001b[1;36m  File \u001b[1;32m\"<ipython-input-26-5cada17550d4>\"\u001b[1;36m, line \u001b[1;32m2\u001b[0m\n\u001b[1;33m    \u001b[0m\n\u001b[1;37m    ^\u001b[0m\n\u001b[1;31mSyntaxError\u001b[0m\u001b[1;31m:\u001b[0m unexpected EOF while parsing\n"
          ]
        }
      ]
    }
  ]
}